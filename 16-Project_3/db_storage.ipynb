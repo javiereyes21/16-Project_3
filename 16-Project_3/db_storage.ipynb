{
 "cells": [
  {
   "cell_type": "code",
   "execution_count": 1,
   "metadata": {},
   "outputs": [],
   "source": [
    "from sqlalchemy import create_engine, Column, Integer, String, Float\n",
    "from sqlalchemy.ext.declarative import declarative_base\n",
    "from sqlalchemy.orm import sessionmaker\n",
    "import pandas as pd"
   ]
  },
  {
   "cell_type": "code",
   "execution_count": 2,
   "metadata": {},
   "outputs": [
    {
     "name": "stderr",
     "output_type": "stream",
     "text": [
      "C:\\Users\\User\\AppData\\Local\\Temp\\ipykernel_9260\\2123928503.py:2: MovedIn20Warning: The ``declarative_base()`` function is now available as sqlalchemy.orm.declarative_base(). (deprecated since: 2.0) (Background on SQLAlchemy 2.0 at: https://sqlalche.me/e/b8d9)\n",
      "  Base = declarative_base()\n"
     ]
    }
   ],
   "source": [
    "# Define the base class for declarative models\n",
    "Base = declarative_base()"
   ]
  },
  {
   "cell_type": "code",
   "execution_count": 3,
   "metadata": {},
   "outputs": [],
   "source": [
    "# Define the School Data model\n",
    "class SchoolData(Base):\n",
    "    __tablename__ = 'SchoolData'\n",
    "    \n",
    "    id = Column(Integer, primary_key=True, autoincrement=True)\n",
    "    lea_name = Column(String)\n",
    "    school_entity_id = Column(Integer)\n",
    "    school_name = Column(String)\n",
    "    county = Column(String)\n",
    "    subgroup = Column(String)\n",
    "    number_graduated = Column(Integer)\n",
    "    number_in_cohort = Column(Integer)\n",
    "    percent_graduated = Column(Float)"
   ]
  },
  {
   "cell_type": "code",
   "execution_count": 4,
   "metadata": {},
   "outputs": [],
   "source": [
    "# Database setup\n",
    "engine = create_engine('sqlite:///merged_cohorts_df.db')  # Use your existing DB file\n",
    "Base.metadata.create_all(engine)  # Create tables if they don't exist\n",
    "Session = sessionmaker(bind=engine)"
   ]
  },
  {
   "cell_type": "code",
   "execution_count": 5,
   "metadata": {},
   "outputs": [],
   "source": [
    "# Load data from CSV\n",
    "data = pd.read_csv('merged_cohorts_df.csv')"
   ]
  },
  {
   "cell_type": "code",
   "execution_count": 8,
   "metadata": {},
   "outputs": [
    {
     "name": "stdout",
     "output_type": "stream",
     "text": [
      "Columns in the DataFrame: Index(['LEA Name', 'School Entity ID', 'School Name', 'County', 'Subgroup',\n",
      "       'Number Graduated', 'Number in Cohort', 'Percent Graduated in 4 Years'],\n",
      "      dtype='object')\n"
     ]
    }
   ],
   "source": [
    "print(\"Columns in the DataFrame:\", data.columns)"
   ]
  },
  {
   "cell_type": "code",
   "execution_count": 9,
   "metadata": {},
   "outputs": [],
   "source": [
    "# Insert data into the database\n",
    "with Session() as session:\n",
    "    for _, row in data.iterrows():\n",
    "        # Handle '*' by converting to None\n",
    "        number_graduated = row['Number Graduated'] if row['Number Graduated'] != '*' else None\n",
    "        number_in_cohort = row['Number in Cohort'] if row['Number in Cohort'] != '*' else None\n",
    "        \n",
    "        # Clean and convert percent graduated\n",
    "        percent_graduated_str = row['Percent Graduated in 4 Years']\n",
    "        if percent_graduated_str == '*' or not percent_graduated_str:\n",
    "            percent_graduated = None\n",
    "        else:\n",
    "            # Handle various cases for percent graduated\n",
    "            if '<' in percent_graduated_str:  # Example: '< 2%'\n",
    "                percent_graduated = 0.0  # Set to 0.0 or another value if needed\n",
    "            elif '>' in percent_graduated_str:  # Example: '> 98'\n",
    "                percent_graduated = 100.0  # Set to 100.0 for percentages above 98\n",
    "            else:\n",
    "                try:\n",
    "                    # Remove the '%' sign and convert to float\n",
    "                    percent_graduated = float(percent_graduated_str.replace('%', '').strip())\n",
    "                except ValueError:\n",
    "                    percent_graduated = None  # Handle cases that still fail\n",
    "\n",
    "        # Create entry\n",
    "        entry = SchoolData(\n",
    "            lea_name=row['LEA Name'],\n",
    "            school_entity_id=row['School Entity ID'],\n",
    "            school_name=row['School Name'],\n",
    "            county=row['County'],\n",
    "            subgroup=row['Subgroup'],\n",
    "            number_graduated=number_graduated,\n",
    "            number_in_cohort=number_in_cohort,\n",
    "            percent_graduated=percent_graduated\n",
    "        )\n",
    "        session.merge(entry)  # Use merge to avoid duplicates\n",
    "\n",
    "    session.commit()\n"
   ]
  },
  {
   "cell_type": "code",
   "execution_count": 10,
   "metadata": {},
   "outputs": [
    {
     "name": "stdout",
     "output_type": "stream",
     "text": [
      "                                  LEA Name  School Entity ID  \\\n",
      "0                  Chinle Unified District              4737   \n",
      "1                  Chinle Unified District              4737   \n",
      "2                  Chinle Unified District              4737   \n",
      "3                  Chinle Unified District              4737   \n",
      "4                  Chinle Unified District              4737   \n",
      "...                                    ...               ...   \n",
      "39203  Arizona Goodwill Education Services           1001974   \n",
      "39204  Arizona Goodwill Education Services           1001974   \n",
      "39205  Arizona Goodwill Education Services           1001974   \n",
      "39206  Arizona Goodwill Education Services           1001974   \n",
      "39207  Arizona Goodwill Education Services           1001974   \n",
      "\n",
      "                      School Name    County            Subgroup  \\\n",
      "0              Chinle High School    Apache          ELL Cohort   \n",
      "1              Chinle High School    Apache                 All   \n",
      "2              Chinle High School    Apache                Male   \n",
      "3              Chinle High School    Apache     Homeless Cohort   \n",
      "4              Chinle High School    Apache              Female   \n",
      "...                           ...       ...                 ...   \n",
      "39203  The Excel Center - Encanto  Maricopa              Female   \n",
      "39204  The Excel Center - Encanto  Maricopa  Hispanic or Latino   \n",
      "39205  The Excel Center - Encanto  Maricopa                Male   \n",
      "39206  The Excel Center - Encanto  Maricopa      Multiple Races   \n",
      "39207  The Excel Center - Encanto  Maricopa               White   \n",
      "\n",
      "       Number Graduated  Number in Cohort  Percent Graduated  \n",
      "0                   NaN               NaN              43.75  \n",
      "1                 180.0             247.0              72.87  \n",
      "2                  78.0             118.0              66.10  \n",
      "3                   NaN               NaN                NaN  \n",
      "4                 102.0             129.0              79.07  \n",
      "...                 ...               ...                ...  \n",
      "39203               NaN             106.0                NaN  \n",
      "39204               NaN              65.0                NaN  \n",
      "39205               NaN              27.0                NaN  \n",
      "39206               NaN               NaN                NaN  \n",
      "39207               NaN              32.0                NaN  \n",
      "\n",
      "[39208 rows x 8 columns]\n"
     ]
    }
   ],
   "source": [
    "# Read data from the database and display it\n",
    "with Session() as session:\n",
    "    result = session.query(SchoolData).all()\n",
    "    df = pd.DataFrame([(d.lea_name, d.school_entity_id, d.school_name, d.county,\n",
    "                        d.subgroup, d.number_graduated, d.number_in_cohort, d.percent_graduated) for d in result],\n",
    "                      columns=['LEA Name', 'School Entity ID', 'School Name', 'County', \n",
    "                               'Subgroup', 'Number Graduated', 'Number in Cohort', 'Percent Graduated'])\n",
    "    print(df)"
   ]
  }
 ],
 "metadata": {
  "kernelspec": {
   "display_name": "base",
   "language": "python",
   "name": "python3"
  },
  "language_info": {
   "codemirror_mode": {
    "name": "ipython",
    "version": 3
   },
   "file_extension": ".py",
   "mimetype": "text/x-python",
   "name": "python",
   "nbconvert_exporter": "python",
   "pygments_lexer": "ipython3",
   "version": "3.11.7"
  }
 },
 "nbformat": 4,
 "nbformat_minor": 2
}
