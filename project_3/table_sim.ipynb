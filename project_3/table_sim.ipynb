{
 "cells": [
  {
   "cell_type": "code",
   "execution_count": 1,
   "metadata": {},
   "outputs": [
    {
     "name": "stdout",
     "output_type": "stream",
     "text": [
      "Current Working Directory: c:\\Users\\User\\Documents\\GitHub\\project_3\n"
     ]
    }
   ],
   "source": [
    "import os\n",
    "print(\"Current Working Directory:\", os.getcwd())"
   ]
  },
  {
   "cell_type": "code",
   "execution_count": 2,
   "metadata": {},
   "outputs": [],
   "source": [
    "%matplotlib inline\n",
    "from matplotlib import style\n",
    "style.use('fivethirtyeight')\n",
    "import matplotlib.pyplot as plt\n",
    "import numpy as np\n",
    "import pandas as pd\n",
    "import datetime as dt\n",
    "from sqlalchemy import create_engine, Column, Integer, String, Float\n",
    "from sqlalchemy.ext.declarative import declarative_base\n",
    "from sqlalchemy.orm import sessionmaker"
   ]
  },
  {
   "cell_type": "code",
   "execution_count": 3,
   "metadata": {},
   "outputs": [],
   "source": [
    "db_file_path = \"C:/Users/User/Documents/GitHub/project_3/merged_cohorts_df.db\"\n",
    "engine = create_engine(f\"sqlite:///{db_file_path}\")"
   ]
  },
  {
   "cell_type": "code",
   "execution_count": 4,
   "metadata": {},
   "outputs": [],
   "source": [
    "csv_file_path = \"C:/Users/User/Documents/GitHub/project_3/merged_cohorts_df.csv\"\n",
    "df = pd.read_csv(csv_file_path)"
   ]
  },
  {
   "cell_type": "code",
   "execution_count": 5,
   "metadata": {},
   "outputs": [
    {
     "name": "stdout",
     "output_type": "stream",
     "text": [
      "Current Working Directory: c:\\Users\\User\\Documents\\GitHub\\project_3\n",
      "('Chinle Unified District', 4737, 'Chinle High School', 'Apache', 'ELL Cohort', '*', '*', '43.75')\n",
      "('Chinle Unified District', 4737, 'Chinle High School', 'Apache', 'All', '180', '247', '72.87')\n",
      "('Chinle Unified District', 4737, 'Chinle High School', 'Apache', 'Male', '78', '118', '66.1')\n",
      "('Chinle Unified District', 4737, 'Chinle High School', 'Apache', 'Homeless Cohort', '*', '*', '*')\n",
      "('Chinle Unified District', 4737, 'Chinle High School', 'Apache', 'Female', '102', '129', '79.07')\n"
     ]
    }
   ],
   "source": [
    "import pandas as pd\n",
    "from sqlalchemy import create_engine, text\n",
    "import os\n",
    "\n",
    "# Check current working directory\n",
    "print(\"Current Working Directory:\", os.getcwd())\n",
    "\n",
    "# Define paths\n",
    "csv_file_path = \"C:/Users/User/Documents/GitHub/project_3/merged_cohorts_df.csv\"\n",
    "db_file_path = \"C:/Users/User/Documents/GitHub/project_3/merged_cohorts_df.db\"\n",
    "\n",
    "# Step 1: Load the CSV file into a DataFrame\n",
    "df = pd.read_csv(csv_file_path)\n",
    "\n",
    "# Step 2: Create a SQLite database\n",
    "engine = create_engine(f\"sqlite:///{db_file_path}\")\n",
    "\n",
    "# Step 3: Write the DataFrame to the SQLite database\n",
    "df.to_sql(\"cohorts\", con=engine, if_exists=\"replace\", index=False)\n",
    "\n",
    "# Step 4: Verify the data\n",
    "try:\n",
    "    with engine.connect() as connection:\n",
    "        result = connection.execute(text(\"SELECT * FROM cohorts LIMIT 5;\"))\n",
    "        for row in result:\n",
    "            print(row)\n",
    "except Exception as e:\n",
    "    print(\"Connection failed:\", e)"
   ]
  },
  {
   "cell_type": "code",
   "execution_count": 6,
   "metadata": {},
   "outputs": [
    {
     "name": "stderr",
     "output_type": "stream",
     "text": [
      "C:\\Users\\User\\AppData\\Local\\Temp\\ipykernel_44252\\4196137762.py:1: MovedIn20Warning: The ``declarative_base()`` function is now available as sqlalchemy.orm.declarative_base(). (deprecated since: 2.0) (Background on SQLAlchemy 2.0 at: https://sqlalche.me/e/b8d9)\n",
      "  Base = declarative_base()\n"
     ]
    }
   ],
   "source": [
    "Base = declarative_base()"
   ]
  },
  {
   "cell_type": "code",
   "execution_count": 7,
   "metadata": {},
   "outputs": [],
   "source": [
    "# Define the model (table) for graduation data\n",
    "class GraduationData(Base):\n",
    "    __tablename__ = 'graduation_data'\n",
    "\n",
    "    id = Column(Integer, primary_key=True)\n",
    "    lea_name = Column(String, nullable=False)\n",
    "    school_entity_id = Column(String, nullable=False)\n",
    "    school_name = Column(String, nullable=False)\n",
    "    county = Column(String, nullable=False)\n",
    "    subgroup = Column(String)\n",
    "    number_graduated = Column(Integer)\n",
    "    number_in_cohort = Column(Integer)\n",
    "    percent_graduated_4_years = Column(Float)\n",
    "    cohort_year = Column(Integer)\n"
   ]
  },
  {
   "cell_type": "code",
   "execution_count": 8,
   "metadata": {},
   "outputs": [],
   "source": [
    "\n",
    "# Create the table in the database if it doesn't exist\n",
    "Base.metadata.create_all(engine)\n"
   ]
  },
  {
   "cell_type": "code",
   "execution_count": 9,
   "metadata": {},
   "outputs": [],
   "source": [
    "\n",
    "# Create a new session\n",
    "Session = sessionmaker(bind=engine)\n",
    "session = Session()\n"
   ]
  },
  {
   "cell_type": "code",
   "execution_count": 10,
   "metadata": {},
   "outputs": [],
   "source": [
    "\n",
    "# Function to add graduation data\n",
    "def add_graduation_data(data):\n",
    "    for record in data:\n",
    "        graduation_record = GraduationData(\n",
    "            lea_name=record['LEA Name'],\n",
    "            school_entity_id=record['School Entity ID'],\n",
    "            school_name=record['School Name'],\n",
    "            county=record['County'],\n",
    "            subgroup=record['Subgroup'],\n",
    "            number_graduated=record['Number Graduated'],\n",
    "            number_in_cohort=record['Number in Cohort'],\n",
    "            percent_graduated_4_years=record['Percent Graduated in 4 Years']\n",
    "        )\n",
    "        session.add(graduation_record)\n",
    "    session.commit()"
   ]
  },
  {
   "cell_type": "code",
   "execution_count": 11,
   "metadata": {},
   "outputs": [],
   "source": [
    "# Convert the DataFrame to a list of dictionaries\n",
    "actual_graduation_data = df.to_dict(orient='records')"
   ]
  },
  {
   "cell_type": "code",
   "execution_count": 12,
   "metadata": {},
   "outputs": [
    {
     "name": "stdout",
     "output_type": "stream",
     "text": [
      "Index(['LEA Name', 'School Entity ID', 'School Name', 'County', 'Subgroup',\n",
      "       'Number Graduated', 'Number in Cohort', 'Percent Graduated in 4 Years'],\n",
      "      dtype='object')\n"
     ]
    }
   ],
   "source": [
    "print(df.columns)"
   ]
  },
  {
   "cell_type": "code",
   "execution_count": 13,
   "metadata": {},
   "outputs": [],
   "source": [
    "# Simulating actual graduation data (this could be replaced with real input)\n",
    "actual_graduation_data = [\n",
    "    {\n",
    "        'LEA Name': 'District A',\n",
    "        'School Entity ID': '001',\n",
    "        'School Name': 'High School A',\n",
    "        'County': 'County A',\n",
    "        'Subgroup': 'All Students',\n",
    "        'Number Graduated': 150,\n",
    "        'Number in Cohort': 160,\n",
    "        'Percent Graduated in 4 Years': 93.75,\n",
    "        'Cohort Year': 2022\n",
    "    },\n",
    "    {\n",
    "        'LEA Name': 'District B',\n",
    "        'School Entity ID': '002',\n",
    "        'School Name': 'High School B',\n",
    "        'County': 'County B',\n",
    "        'Subgroup': 'All Students',\n",
    "        'Number Graduated': 120,\n",
    "        'Number in Cohort': 130,\n",
    "        'Percent Graduated in 4 Years': 92.31,\n",
    "        'Cohort Year': 2022\n",
    "    }\n",
    "]\n"
   ]
  },
  {
   "cell_type": "code",
   "execution_count": null,
   "metadata": {},
   "outputs": [],
   "source": [
    "\n",
    "# Add actual graduation data to the database\n",
    "add_graduation_data(actual_graduation_data)\n",
    "\n",
    "# Fetch data for visualization\n",
    "data = session.query(GraduationData).all()\n",
    "school_names = [record.school_name for record in data]\n",
    "percent_graduated = [record.percent_graduated_4_years for record in data]\n",
    "\n",
    "# Close the session\n",
    "session.close()\n"
   ]
  },
  {
   "cell_type": "code",
   "execution_count": 15,
   "metadata": {},
   "outputs": [
    {
     "data": {
      "image/png": "[encoded data removed]",
      "text/plain": [
       "<Figure size 1000x500 with 1 Axes>"
      ]
     },
     "metadata": {},
     "output_type": "display_data"
    }
   ],
   "source": [
    "\n",
    "# Visualize data using Matplotlib\n",
    "plt.figure(figsize=(10, 5))\n",
    "plt.bar(school_names, percent_graduated, color='skyblue')\n",
    "plt.title('Percent Graduated in 4 Years by School')\n",
    "plt.xlabel('School Names')\n",
    "plt.ylabel('Percent Graduated in 4 Years')\n",
    "plt.xticks(rotation=45)\n",
    "plt.grid(axis='y')\n",
    "\n",
    "# Show the plot\n",
    "plt.tight_layout()\n",
    "plt.show()"
   ]
  }
 ],
 "metadata": {
  "kernelspec": {
   "display_name": "base",
   "language": "python",
   "name": "python3"
  },
  "language_info": {
   "codemirror_mode": {
    "name": "ipython",
    "version": 3
   },
   "file_extension": ".py",
   "mimetype": "text/x-python",
   "name": "python",
   "nbconvert_exporter": "python",
   "pygments_lexer": "ipython3",
   "version": "3.11.7"
  }
 },
 "nbformat": 4,
 "nbformat_minor": 2
}
